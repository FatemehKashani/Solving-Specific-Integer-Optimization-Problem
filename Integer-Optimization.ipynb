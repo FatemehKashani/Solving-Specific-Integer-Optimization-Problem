{
 "cells": [
  {
   "cell_type": "code",
   "execution_count": null,
   "metadata": {},
   "outputs": [],
   "source": [
    "from math import sqrt\n",
    "import numpy as np\n",
    "import pandas as pd"
   ]
  },
  {
   "cell_type": "code",
   "execution_count": null,
   "metadata": {},
   "outputs": [],
   "source": []
  },
  {
   "cell_type": "code",
   "execution_count": null,
   "metadata": {},
   "outputs": [],
   "source": [
    "def divisorGenerator(n):\n",
    "    large_divisors = []\n",
    "    for i in range(1, int(sqrt(n) + 1)):\n",
    "        if n % i == 0:\n",
    "            yield i\n",
    "            if i*i != n:\n",
    "                large_divisors.append(n / i)\n",
    "    for divisor in reversed(large_divisors):\n",
    "        yield divisor"
   ]
  },
  {
   "cell_type": "code",
   "execution_count": null,
   "metadata": {},
   "outputs": [],
   "source": [
    "I = [4e6, 8e6, 10e6, 16e6, 20e6, 24e6, 25e6]\n",
    "M = range(2, 64)\n",
    "N = range(50, 433)\n",
    "P = [2, 4, 6, 8]\n",
    "\n",
    "\n",
    "def relation(i, m, n, p):\n",
    "    return (i * (1 / m) * n * (1 / p)) / 120\n",
    "\n",
    "counter = 0\n",
    "condidates = []\n",
    "for i in I:\n",
    "    for m in M:\n",
    "        for n in N:\n",
    "            for p in P:\n",
    "                if counter % 1000 == 0:\n",
    "                    print(counter)\n",
    "                buff = relation(i, m, n, p)\n",
    "                if buff >= 1200000:\n",
    "                    continue\n",
    "                if (round(buff) == buff) & (buff % 500 == 0):\n",
    "                    condidates.append([buff, [i, m, n, p], list(divisorGenerator(int(buff)))])\n",
    "\n",
    "                counter += 1\n",
    "\n",
    "print(f\"Number of Condidate : {len(condidates)}\")"
   ]
  },
  {
   "cell_type": "code",
   "execution_count": null,
   "metadata": {},
   "outputs": [],
   "source": [
    "new_condidates = []\n",
    "for condidate in condidates:\n",
    "    x = condidate[0]\n",
    "    imnp = condidate[1]\n",
    "    divisors = condidate[2]\n",
    "\n",
    "    buff = []\n",
    "    for divisor in divisors:\n",
    "        if divisor % 500 == 0:\n",
    "            buff.append(divisor // 500)\n",
    "\n",
    "    if len(buff[1:]) >= 10:\n",
    "        new_condidates.append([x, imnp, buff[1:]])\n",
    "\n",
    "print(f\"Number of New Condidate : {len(new_condidates)}\")"
   ]
  },
  {
   "cell_type": "code",
   "execution_count": null,
   "metadata": {},
   "outputs": [],
   "source": [
    "max_x = 0\n",
    "for condidate in new_condidates:\n",
    "    if max_x < condidate[0]:\n",
    "        max_x = condidate[0]\n",
    "        max_condidate = condidate\n",
    "\n",
    "max_x"
   ]
  },
  {
   "cell_type": "code",
   "execution_count": null,
   "metadata": {},
   "outputs": [],
   "source": [
    "max_condidate"
   ]
  },
  {
   "cell_type": "code",
   "execution_count": null,
   "metadata": {},
   "outputs": [],
   "source": [
    "def co_prime(divisors):\n",
    "    divisors.reverse()\n",
    "    output_list = []\n",
    "    counter = 1\n",
    "    for divisor in divisors:\n",
    "        buff = [divisor]\n",
    "        for sub_divisor in divisors[counter:]:\n",
    "            if divisor % sub_divisor != 0:\n",
    "                buff.append(sub_divisor)     \n",
    "        if len(buff) >= 10:\n",
    "            output_list.append(buff) \n",
    "        counter += 1\n",
    "    \n",
    "\n",
    "    return output_list"
   ]
  },
  {
   "cell_type": "code",
   "execution_count": null,
   "metadata": {},
   "outputs": [],
   "source": [
    "def pop_notcoprime(divisors):\n",
    "    buff = []\n",
    "    for counter1 in range(len(divisors)):\n",
    "        flag = 0\n",
    "        for counter2 in range(len(divisors)):\n",
    "            a = divisors[counter1]\n",
    "            b = divisors[counter2]\n",
    "            if a < b:\n",
    "                a, b = b, a\n",
    "            if a % b == 0:\n",
    "                flag += 1\n",
    "        buff.append(flag)\n",
    "    if max(buff) == 1:\n",
    "        return divisors\n",
    "    else:\n",
    "        divisors.pop(np.argmax(buff))\n",
    "        return divisors"
   ]
  },
  {
   "cell_type": "code",
   "execution_count": null,
   "metadata": {},
   "outputs": [],
   "source": []
  },
  {
   "cell_type": "code",
   "execution_count": null,
   "metadata": {},
   "outputs": [],
   "source": [
    "final_condidate = []\n",
    "for counter, condidate in enumerate(new_condidates):\n",
    "    if counter % 100 == 0:\n",
    "        print(f\"Counter : {counter}\")\n",
    "    x = condidate[0]\n",
    "    imnp = condidate[1]\n",
    "    divisors = condidate[2]\n",
    "    \n",
    "    \n",
    "    all_co_primes = co_prime(divisors.copy())\n",
    "    new_all_co_primes = []\n",
    "    for all_co_prime in all_co_primes:\n",
    "        len_co_prime = len(all_co_prime)\n",
    "        \n",
    "        while True:\n",
    "            all_co_prime = pop_notcoprime(all_co_prime)\n",
    "            if len_co_prime == len(all_co_prime):\n",
    "                break\n",
    "            else:\n",
    "                len_co_prime = len(all_co_prime)\n",
    "        \n",
    "        if len(all_co_prime) >= 10:\n",
    "            new_all_co_primes.append(all_co_prime)\n",
    "    \n",
    "    if len(new_all_co_primes) != 0:\n",
    "        final_condidate.append([x, imnp, new_all_co_primes])"
   ]
  },
  {
   "cell_type": "code",
   "execution_count": null,
   "metadata": {},
   "outputs": [],
   "source": [
    "len(final_condidate)"
   ]
  },
  {
   "cell_type": "code",
   "execution_count": null,
   "metadata": {
    "scrolled": true
   },
   "outputs": [],
   "source": [
    "final_condidate"
   ]
  },
  {
   "cell_type": "code",
   "execution_count": null,
   "metadata": {},
   "outputs": [],
   "source": [
    "diff_var = []\n",
    "set_x = []\n",
    "max_x = 0\n",
    "for condidate in final_condidate:\n",
    "    if max_x < condidate[0]:\n",
    "        max_x = condidate[0]\n",
    "        max_condidate = condidate\n",
    "    set_x.append(condidate[0])\n",
    "    diff_var.append((condidate[2][0][0] - condidate[2][0][-1]) * 500) \n",
    "\n",
    "max_x"
   ]
  },
  {
   "cell_type": "code",
   "execution_count": null,
   "metadata": {},
   "outputs": [],
   "source": [
    "set(set_x)"
   ]
  },
  {
   "cell_type": "code",
   "execution_count": null,
   "metadata": {
    "scrolled": true
   },
   "outputs": [],
   "source": [
    "diff_var"
   ]
  },
  {
   "cell_type": "code",
   "execution_count": null,
   "metadata": {},
   "outputs": [],
   "source": [
    "np.argmin(diff_var)"
   ]
  },
  {
   "cell_type": "code",
   "execution_count": null,
   "metadata": {},
   "outputs": [],
   "source": [
    "final_condidate[37]"
   ]
  },
  {
   "cell_type": "code",
   "execution_count": null,
   "metadata": {},
   "outputs": [],
   "source": []
  },
  {
   "cell_type": "code",
   "execution_count": null,
   "metadata": {},
   "outputs": [],
   "source": [
    "np.where(np.array(diff_var) == 35500)"
   ]
  },
  {
   "cell_type": "code",
   "execution_count": null,
   "metadata": {},
   "outputs": [],
   "source": [
    "final_condidate[37]"
   ]
  },
  {
   "cell_type": "code",
   "execution_count": null,
   "metadata": {},
   "outputs": [],
   "source": [
    "final_condidate[45]"
   ]
  },
  {
   "cell_type": "code",
   "execution_count": null,
   "metadata": {},
   "outputs": [],
   "source": [
    "final_condidate[57]"
   ]
  },
  {
   "cell_type": "code",
   "execution_count": null,
   "metadata": {},
   "outputs": [],
   "source": [
    "set(diff_var)"
   ]
  },
  {
   "cell_type": "code",
   "execution_count": null,
   "metadata": {},
   "outputs": [],
   "source": [
    "np.where(np.array(diff_var) == 46500)"
   ]
  },
  {
   "cell_type": "code",
   "execution_count": null,
   "metadata": {},
   "outputs": [],
   "source": [
    "len(np.where(np.array(diff_var) == 46500)[0])"
   ]
  },
  {
   "cell_type": "code",
   "execution_count": null,
   "metadata": {},
   "outputs": [],
   "source": [
    "max_x = 0\n",
    "for index in np.where(np.array(diff_var) == 46500)[0]:\n",
    "    if max_x < final_condidate[index][0]:\n",
    "        max_x = final_condidate[index][0]"
   ]
  },
  {
   "cell_type": "code",
   "execution_count": null,
   "metadata": {},
   "outputs": [],
   "source": [
    "max_x"
   ]
  },
  {
   "cell_type": "code",
   "execution_count": null,
   "metadata": {},
   "outputs": [],
   "source": []
  },
  {
   "cell_type": "code",
   "execution_count": null,
   "metadata": {},
   "outputs": [],
   "source": [
    "np.where(np.array(diff_var) == 76500)"
   ]
  },
  {
   "cell_type": "code",
   "execution_count": null,
   "metadata": {},
   "outputs": [],
   "source": [
    "len(np.where(np.array(diff_var) == 76500)[0])"
   ]
  },
  {
   "cell_type": "code",
   "execution_count": null,
   "metadata": {},
   "outputs": [],
   "source": [
    "max_x = 0\n",
    "for index in np.where(np.array(diff_var) == 76500)[0]:\n",
    "    if max_x < final_condidate[index][0]:\n",
    "        max_x = final_condidate[index][0]"
   ]
  },
  {
   "cell_type": "code",
   "execution_count": null,
   "metadata": {},
   "outputs": [],
   "source": [
    "max_x"
   ]
  },
  {
   "cell_type": "code",
   "execution_count": null,
   "metadata": {},
   "outputs": [],
   "source": [
    "np.where(np.array(diff_var) == 91500)"
   ]
  },
  {
   "cell_type": "code",
   "execution_count": null,
   "metadata": {},
   "outputs": [],
   "source": [
    "len(np.where(np.array(diff_var) == 91500)[0])"
   ]
  },
  {
   "cell_type": "code",
   "execution_count": null,
   "metadata": {},
   "outputs": [],
   "source": [
    "max_x = 0\n",
    "for index in np.where(np.array(diff_var) == 91500)[0]:\n",
    "    if max_x < final_condidate[index][0]:\n",
    "        max_x = final_condidate[index][0]"
   ]
  },
  {
   "cell_type": "code",
   "execution_count": null,
   "metadata": {},
   "outputs": [],
   "source": [
    "max_x"
   ]
  },
  {
   "cell_type": "code",
   "execution_count": null,
   "metadata": {},
   "outputs": [],
   "source": [
    "final_condidate[4]"
   ]
  },
  {
   "cell_type": "code",
   "execution_count": null,
   "metadata": {},
   "outputs": [],
   "source": []
  },
  {
   "cell_type": "code",
   "execution_count": null,
   "metadata": {},
   "outputs": [],
   "source": [
    "BUFF = []\n",
    "for condidate in final_condidate:\n",
    "    buff = [condidate[0]] + condidate[1] + (np.array(condidate[2][0]) * 500).tolist()\n",
    "    BUFF.append(buff)"
   ]
  },
  {
   "cell_type": "code",
   "execution_count": null,
   "metadata": {},
   "outputs": [],
   "source": [
    "df = pd.DataFrame(np.array(BUFF), columns=[\"X\", \"I\", \"M\", \"N\", \"P\", \"F10\", \"F9\", \"F8\", \"F7\", \"F6\", \"F5\", \"F4\", \"F3\", \"F2\", \"F1\"])\n",
    "df"
   ]
  },
  {
   "cell_type": "code",
   "execution_count": null,
   "metadata": {},
   "outputs": [],
   "source": [
    "df.to_csv(\"Results.csv\", index=None)"
   ]
  },
  {
   "cell_type": "code",
   "execution_count": null,
   "metadata": {},
   "outputs": [],
   "source": [
    "pd.read_csv(\"Results.csv\")"
   ]
  },
  {
   "cell_type": "code",
   "execution_count": null,
   "metadata": {},
   "outputs": [],
   "source": []
  }
 ],
 "metadata": {
  "kernelspec": {
   "display_name": "Python 3.8.8 64-bit ('TensorFlow2': conda)",
   "language": "python",
   "name": "python388jvsc74a57bd0e32a148bad2c5c70e476b03c767e5d0c85b32db8213e03ce69283c8b3ecdedb5"
  },
  "language_info": {
   "codemirror_mode": {
    "name": "ipython",
    "version": 3
   },
   "file_extension": ".py",
   "mimetype": "text/x-python",
   "name": "python",
   "nbconvert_exporter": "python",
   "pygments_lexer": "ipython3",
   "version": "3.8.12"
  }
 },
 "nbformat": 4,
 "nbformat_minor": 4
}
